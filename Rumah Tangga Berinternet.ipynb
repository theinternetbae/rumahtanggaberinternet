{
 "cells": [
  {
   "cell_type": "markdown",
   "metadata": {},
   "source": [
    "# import module"
   ]
  },
  {
   "cell_type": "code",
   "execution_count": 1,
   "metadata": {},
   "outputs": [],
   "source": [
    "\n",
    "import pandas as pd\n",
    "import seaborn as sns; sns.set()\n",
    "import matplotlib.pyplot as plt\n",
    "\n",
    "%matplotlib inline"
   ]
  },
  {
   "cell_type": "markdown",
   "metadata": {},
   "source": [
    "# import data csv dan lihat head dataframe"
   ]
  },
  {
   "cell_type": "code",
   "execution_count": 38,
   "metadata": {},
   "outputs": [
    {
     "data": {
      "text/html": [
       "<div>\n",
       "<style scoped>\n",
       "    .dataframe tbody tr th:only-of-type {\n",
       "        vertical-align: middle;\n",
       "    }\n",
       "\n",
       "    .dataframe tbody tr th {\n",
       "        vertical-align: top;\n",
       "    }\n",
       "\n",
       "    .dataframe thead th {\n",
       "        text-align: right;\n",
       "    }\n",
       "</style>\n",
       "<table border=\"1\" class=\"dataframe\">\n",
       "  <thead>\n",
       "    <tr style=\"text-align: right;\">\n",
       "      <th></th>\n",
       "      <th>kode_provinsi</th>\n",
       "      <th>nama_provinsi</th>\n",
       "      <th>kode_kabkota</th>\n",
       "      <th>nama_kabkota</th>\n",
       "      <th>ruta_berinternet</th>\n",
       "      <th>latitude</th>\n",
       "      <th>longitude</th>\n",
       "    </tr>\n",
       "  </thead>\n",
       "  <tbody>\n",
       "    <tr>\n",
       "      <th>0</th>\n",
       "      <td>11</td>\n",
       "      <td>Prov. Nanggroe Aceh Darussalam</td>\n",
       "      <td>1101</td>\n",
       "      <td>Kab. Simeulue</td>\n",
       "      <td>1449</td>\n",
       "      <td>2.62818</td>\n",
       "      <td>96.0898</td>\n",
       "    </tr>\n",
       "    <tr>\n",
       "      <th>1</th>\n",
       "      <td>11</td>\n",
       "      <td>Prov. Nanggroe Aceh Darussalam</td>\n",
       "      <td>1102</td>\n",
       "      <td>Kab. Aceh Singkil</td>\n",
       "      <td>1520</td>\n",
       "      <td>2.43900</td>\n",
       "      <td>97.9244</td>\n",
       "    </tr>\n",
       "    <tr>\n",
       "      <th>2</th>\n",
       "      <td>11</td>\n",
       "      <td>Prov. Nanggroe Aceh Darussalam</td>\n",
       "      <td>1103</td>\n",
       "      <td>Kab. Aceh Selatan</td>\n",
       "      <td>2238</td>\n",
       "      <td>3.25638</td>\n",
       "      <td>97.2130</td>\n",
       "    </tr>\n",
       "    <tr>\n",
       "      <th>3</th>\n",
       "      <td>11</td>\n",
       "      <td>Prov. Nanggroe Aceh Darussalam</td>\n",
       "      <td>1104</td>\n",
       "      <td>Kab. Aceh Tenggara</td>\n",
       "      <td>3432</td>\n",
       "      <td>3.59968</td>\n",
       "      <td>97.6619</td>\n",
       "    </tr>\n",
       "    <tr>\n",
       "      <th>4</th>\n",
       "      <td>11</td>\n",
       "      <td>Prov. Nanggroe Aceh Darussalam</td>\n",
       "      <td>1105</td>\n",
       "      <td>Kab. Aceh Timur</td>\n",
       "      <td>4585</td>\n",
       "      <td>4.56983</td>\n",
       "      <td>97.7723</td>\n",
       "    </tr>\n",
       "  </tbody>\n",
       "</table>\n",
       "</div>"
      ],
      "text/plain": [
       "   kode_provinsi                   nama_provinsi  kode_kabkota  \\\n",
       "0             11  Prov. Nanggroe Aceh Darussalam          1101   \n",
       "1             11  Prov. Nanggroe Aceh Darussalam          1102   \n",
       "2             11  Prov. Nanggroe Aceh Darussalam          1103   \n",
       "3             11  Prov. Nanggroe Aceh Darussalam          1104   \n",
       "4             11  Prov. Nanggroe Aceh Darussalam          1105   \n",
       "\n",
       "         nama_kabkota  ruta_berinternet  latitude  longitude  \n",
       "0       Kab. Simeulue              1449   2.62818    96.0898  \n",
       "1   Kab. Aceh Singkil              1520   2.43900    97.9244  \n",
       "2   Kab. Aceh Selatan              2238   3.25638    97.2130  \n",
       "3  Kab. Aceh Tenggara              3432   3.59968    97.6619  \n",
       "4     Kab. Aceh Timur              4585   4.56983    97.7723  "
      ]
     },
     "execution_count": 38,
     "metadata": {},
     "output_type": "execute_result"
    }
   ],
   "source": [
    "data = pd.read_csv(\"G:/pintaria/Python analisis dan visualisasi data/file latihan/rutaberinternet.csv\", sep=\",\")\n",
    "data.head()"
   ]
  },
  {
   "cell_type": "markdown",
   "metadata": {},
   "source": [
    "# drop beberapa kolom pada dataframe"
   ]
  },
  {
   "cell_type": "code",
   "execution_count": 4,
   "metadata": {},
   "outputs": [
    {
     "data": {
      "text/html": [
       "<div>\n",
       "<style scoped>\n",
       "    .dataframe tbody tr th:only-of-type {\n",
       "        vertical-align: middle;\n",
       "    }\n",
       "\n",
       "    .dataframe tbody tr th {\n",
       "        vertical-align: top;\n",
       "    }\n",
       "\n",
       "    .dataframe thead th {\n",
       "        text-align: right;\n",
       "    }\n",
       "</style>\n",
       "<table border=\"1\" class=\"dataframe\">\n",
       "  <thead>\n",
       "    <tr style=\"text-align: right;\">\n",
       "      <th></th>\n",
       "      <th>nama_provinsi</th>\n",
       "      <th>nama_kabkota</th>\n",
       "      <th>ruta_berinternet</th>\n",
       "    </tr>\n",
       "  </thead>\n",
       "  <tbody>\n",
       "    <tr>\n",
       "      <th>0</th>\n",
       "      <td>Prov. Nanggroe Aceh Darussalam</td>\n",
       "      <td>Kab. Simeulue</td>\n",
       "      <td>1449</td>\n",
       "    </tr>\n",
       "    <tr>\n",
       "      <th>1</th>\n",
       "      <td>Prov. Nanggroe Aceh Darussalam</td>\n",
       "      <td>Kab. Aceh Singkil</td>\n",
       "      <td>1520</td>\n",
       "    </tr>\n",
       "    <tr>\n",
       "      <th>2</th>\n",
       "      <td>Prov. Nanggroe Aceh Darussalam</td>\n",
       "      <td>Kab. Aceh Selatan</td>\n",
       "      <td>2238</td>\n",
       "    </tr>\n",
       "    <tr>\n",
       "      <th>3</th>\n",
       "      <td>Prov. Nanggroe Aceh Darussalam</td>\n",
       "      <td>Kab. Aceh Tenggara</td>\n",
       "      <td>3432</td>\n",
       "    </tr>\n",
       "    <tr>\n",
       "      <th>4</th>\n",
       "      <td>Prov. Nanggroe Aceh Darussalam</td>\n",
       "      <td>Kab. Aceh Timur</td>\n",
       "      <td>4585</td>\n",
       "    </tr>\n",
       "  </tbody>\n",
       "</table>\n",
       "</div>"
      ],
      "text/plain": [
       "                    nama_provinsi        nama_kabkota  ruta_berinternet\n",
       "0  Prov. Nanggroe Aceh Darussalam       Kab. Simeulue              1449\n",
       "1  Prov. Nanggroe Aceh Darussalam   Kab. Aceh Singkil              1520\n",
       "2  Prov. Nanggroe Aceh Darussalam   Kab. Aceh Selatan              2238\n",
       "3  Prov. Nanggroe Aceh Darussalam  Kab. Aceh Tenggara              3432\n",
       "4  Prov. Nanggroe Aceh Darussalam     Kab. Aceh Timur              4585"
      ]
     },
     "execution_count": 4,
     "metadata": {},
     "output_type": "execute_result"
    }
   ],
   "source": [
    "data = data.drop(['kode_provinsi', 'kode_kabkota', 'latitude', 'longitude'], axis=1)\n",
    "data.head()"
   ]
  },
  {
   "cell_type": "markdown",
   "metadata": {},
   "source": [
    "# melihat list nama-nama provinsi di kolom nama_provinsi"
   ]
  },
  {
   "cell_type": "code",
   "execution_count": 39,
   "metadata": {},
   "outputs": [
    {
     "data": {
      "text/plain": [
       "['Prov. Nanggroe Aceh Darussalam',\n",
       " 'Prov. Sumatera Utara',\n",
       " 'Prov. Sumatera Barat',\n",
       " 'Prov. Riau',\n",
       " 'Prov. Jambi',\n",
       " 'Prov. Sumatera Selatan',\n",
       " 'Prov. Bengkulu',\n",
       " 'Prov. Lampung',\n",
       " 'Prov. Kepulauan Bangka Belitung',\n",
       " 'Prov. Kepulauan Riau',\n",
       " 'Prov. DKI Jakarta',\n",
       " 'Prov. Jawa Barat',\n",
       " 'Prov. Jawa Tengah',\n",
       " 'Prov. D I Yogyakarta',\n",
       " 'Prov. Jawa Timur',\n",
       " 'Prov. Banten',\n",
       " 'Prov. Bali',\n",
       " 'Prov. Nusa Tenggara Barat',\n",
       " 'Prov. Nusa Tenggara Timur',\n",
       " 'Prov. Kalimantan Barat',\n",
       " 'Prov. Kalimantan Tengah',\n",
       " 'Prov. Kalimantan Selatan',\n",
       " 'Prov. Kalimantan Timur',\n",
       " 'Prov. Sulawesi Utara',\n",
       " 'Prov. Sulawesi Tengah',\n",
       " 'Prov. Sulawesi Selatan',\n",
       " 'Prov. Sulawesi Tenggara',\n",
       " 'Prov. Gorontalo',\n",
       " 'Prov. Sulawesi Barat',\n",
       " 'Prov. Maluku',\n",
       " 'Prov. Maluku Utara',\n",
       " 'Prov. Papua Barat',\n",
       " 'Prov. Papua']"
      ]
     },
     "execution_count": 39,
     "metadata": {},
     "output_type": "execute_result"
    }
   ],
   "source": [
    "data.nama_provinsi.unique().tolist()"
   ]
  },
  {
   "cell_type": "markdown",
   "metadata": {},
   "source": [
    "# mencari index untuk data observasi Prov. Jawa Tengah"
   ]
  },
  {
   "cell_type": "code",
   "execution_count": 40,
   "metadata": {},
   "outputs": [
    {
     "data": {
      "text/plain": [
       "[183,\n",
       " 184,\n",
       " 185,\n",
       " 186,\n",
       " 187,\n",
       " 188,\n",
       " 189,\n",
       " 190,\n",
       " 191,\n",
       " 192,\n",
       " 193,\n",
       " 194,\n",
       " 195,\n",
       " 196,\n",
       " 197,\n",
       " 198,\n",
       " 199,\n",
       " 200,\n",
       " 201,\n",
       " 202,\n",
       " 203,\n",
       " 204,\n",
       " 205,\n",
       " 206,\n",
       " 207,\n",
       " 208,\n",
       " 209,\n",
       " 210,\n",
       " 211,\n",
       " 212,\n",
       " 213,\n",
       " 214,\n",
       " 215,\n",
       " 216,\n",
       " 217]"
      ]
     },
     "execution_count": 40,
     "metadata": {},
     "output_type": "execute_result"
    }
   ],
   "source": [
    "data.index[data[\"nama_provinsi\"] == \"Prov. Jawa Tengah\"].tolist()"
   ]
  },
  {
   "cell_type": "markdown",
   "metadata": {},
   "source": [
    "# membuat dataframe baru untuk Jawa Tengah"
   ]
  },
  {
   "cell_type": "code",
   "execution_count": 10,
   "metadata": {},
   "outputs": [
    {
     "data": {
      "text/html": [
       "<div>\n",
       "<style scoped>\n",
       "    .dataframe tbody tr th:only-of-type {\n",
       "        vertical-align: middle;\n",
       "    }\n",
       "\n",
       "    .dataframe tbody tr th {\n",
       "        vertical-align: top;\n",
       "    }\n",
       "\n",
       "    .dataframe thead th {\n",
       "        text-align: right;\n",
       "    }\n",
       "</style>\n",
       "<table border=\"1\" class=\"dataframe\">\n",
       "  <thead>\n",
       "    <tr style=\"text-align: right;\">\n",
       "      <th></th>\n",
       "      <th>nama_kabkota</th>\n",
       "      <th>ruta_berinternet</th>\n",
       "    </tr>\n",
       "  </thead>\n",
       "  <tbody>\n",
       "    <tr>\n",
       "      <th>183</th>\n",
       "      <td>Kab. Cilacap</td>\n",
       "      <td>51614</td>\n",
       "    </tr>\n",
       "    <tr>\n",
       "      <th>184</th>\n",
       "      <td>Kab. Banyumas</td>\n",
       "      <td>67106</td>\n",
       "    </tr>\n",
       "    <tr>\n",
       "      <th>185</th>\n",
       "      <td>Kab. Purbalingga</td>\n",
       "      <td>24065</td>\n",
       "    </tr>\n",
       "    <tr>\n",
       "      <th>186</th>\n",
       "      <td>Kab. Banjarnegara</td>\n",
       "      <td>23991</td>\n",
       "    </tr>\n",
       "    <tr>\n",
       "      <th>187</th>\n",
       "      <td>Kab. Kebumen</td>\n",
       "      <td>34685</td>\n",
       "    </tr>\n",
       "  </tbody>\n",
       "</table>\n",
       "</div>"
      ],
      "text/plain": [
       "          nama_kabkota  ruta_berinternet\n",
       "183       Kab. Cilacap             51614\n",
       "184      Kab. Banyumas             67106\n",
       "185   Kab. Purbalingga             24065\n",
       "186  Kab. Banjarnegara             23991\n",
       "187       Kab. Kebumen             34685"
      ]
     },
     "execution_count": 10,
     "metadata": {},
     "output_type": "execute_result"
    }
   ],
   "source": [
    "jateng = data.loc[183:217]\n",
    "jateng = jateng.drop(['nama_provinsi'], axis=1)\n",
    "jateng.head()"
   ]
  },
  {
   "cell_type": "markdown",
   "metadata": {},
   "source": [
    "# membuat plot"
   ]
  },
  {
   "cell_type": "code",
   "execution_count": 35,
   "metadata": {},
   "outputs": [
    {
     "data": {
      "image/png": "[encoded data removed]",
      "text/plain": [
       "<matplotlib.figure.Figure at 0x1f4973bf7f0>"
      ]
     },
     "metadata": {},
     "output_type": "display_data"
    }
   ],
   "source": [
    "plot = sns.factorplot(x='nama_kabkota', y='ruta_berinternet', data=jateng, kind='bar', size=8, ).set_xticklabels(rotation=90).set_titles(\"Rumah Tangga Berinternet di Jawa Tengah Tahun 2010\")"
   ]
  },
  {
   "cell_type": "markdown",
   "metadata": {},
   "source": [
    "# simpan plot"
   ]
  },
  {
   "cell_type": "code",
   "execution_count": 41,
   "metadata": {},
   "outputs": [],
   "source": [
    "plot.savefig(\"G:/pintaria/Python analisis dan visualisasi data/file latihan/keluargaberinternet\")"
   ]
  }
 ],
 "metadata": {
  "kernelspec": {
   "display_name": "Python 3",
   "language": "python",
   "name": "python3"
  },
  "language_info": {
   "codemirror_mode": {
    "name": "ipython",
    "version": 3
   },
   "file_extension": ".py",
   "mimetype": "text/x-python",
   "name": "python",
   "nbconvert_exporter": "python",
   "pygments_lexer": "ipython3",
   "version": "3.6.4"
  }
 },
 "nbformat": 4,
 "nbformat_minor": 2
}
